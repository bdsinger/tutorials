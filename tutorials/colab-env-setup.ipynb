{
 "cells": [
  {
   "cell_type": "markdown",
   "metadata": {
    "colab_type": "text",
    "id": "yb-sHbwR4QO2"
   },
   "source": [
    "# Brainiak Tutorials Environment Setup for Google CoLab"
   ]
  },
  {
   "cell_type": "markdown",
   "metadata": {
    "colab_type": "text",
    "id": "dyFoGtMhg_kC"
   },
   "source": [
    "## Install Brainiak and code dependencies"
   ]
  },
  {
   "cell_type": "code",
   "execution_count": 0,
   "metadata": {
    "colab": {},
    "colab_type": "code",
    "id": "DZ_oWJwO2392"
   },
   "outputs": [],
   "source": [
    "!pip install deepdish ipython matplotlib networkx nilearn notebook nxviz pandas seaborn watchdog\n",
    "!pip install pip\\<10\n",
    "!pip install brainiak"
   ]
  },
  {
   "cell_type": "markdown",
   "metadata": {
    "colab_type": "text",
    "id": "327lTJCnhQyY"
   },
   "source": [
    "## Git-clone helper files for tutorials"
   ]
  },
  {
   "cell_type": "code",
   "execution_count": 0,
   "metadata": {
    "colab": {},
    "colab_type": "code",
    "id": "7sfzHEQA4GJ-"
   },
   "outputs": [],
   "source": [
    "!git clone https://github.com/brainiak/tutorials.git\n",
    "!cd tutorials/tutorials/; cp -r 07-searchlight 09-fcma 13-real-time utils.py setup_environment.sh /content/\n"
   ]
  },
  {
   "cell_type": "markdown",
   "metadata": {
    "colab_type": "text",
    "id": "6yLqGuNihci9"
   },
   "source": [
    "## Download datasets for tutorials"
   ]
  },
  {
   "cell_type": "markdown",
   "metadata": {
    "colab_type": "text",
    "id": "lC6LvF8615gZ"
   },
   "source": [
    "### Make brainiak_datasets sub-directory in home directory"
   ]
  },
  {
   "cell_type": "code",
   "execution_count": 0,
   "metadata": {
    "colab": {},
    "colab_type": "code",
    "id": "IVkCVFbt12a-"
   },
   "outputs": [],
   "source": [
    "!mkdir /root/brainiak_datasets"
   ]
  },
  {
   "cell_type": "markdown",
   "metadata": {
    "colab_type": "text",
    "id": "20dULqJi1rPL"
   },
   "source": [
    "### Download VDC dataset - (tutorial notebooks 2-5)"
   ]
  },
  {
   "cell_type": "code",
   "execution_count": 0,
   "metadata": {
    "colab": {},
    "colab_type": "code",
    "id": "iASMWeOdFxjI"
   },
   "outputs": [],
   "source": [
    "!cd /root/brainiak_datasets; wget --no-check-certificate -r 'https://drive.google.com/uc?export=download&confirm=KlKd&id=1PrnucQ4hXqUY8gl6ysGJJiTreYu7KOLz' -O 'vdc.zip'\n",
    "!cd /root/brainiak_datasets; unzip vdc.zip"
   ]
  },
  {
   "cell_type": "markdown",
   "metadata": {
    "colab_type": "text",
    "id": "e23rxU432dms"
   },
   "source": [
    "### Download NinetySix dataset - (tutorial notebook 6)"
   ]
  },
  {
   "cell_type": "code",
   "execution_count": 0,
   "metadata": {
    "colab": {},
    "colab_type": "code",
    "id": "1FFAkp5hJrNr"
   },
   "outputs": [],
   "source": [
    "!cd /root/brainiak_datasets; wget --no-check-certificate -r 'https://drive.google.com/uc?export=download&confirm=Yqoe&id=14m-YY-N3mCjCdHGkeVlTS4uA7WJzbQS0' -O 'NinetySix.zip'\n",
    "!cd /root/brainiak_datasets/; unzip NinetySix.zip"
   ]
  },
  {
   "cell_type": "markdown",
   "metadata": {
    "colab_type": "text",
    "id": "ZXJvLs028xnW"
   },
   "source": [
    "### Download Face-scene dataset - (tutorial notebooks 7, 9)"
   ]
  },
  {
   "cell_type": "code",
   "execution_count": 0,
   "metadata": {
    "colab": {},
    "colab_type": "code",
    "id": "5M8ulqZb9-H_"
   },
   "outputs": [],
   "source": [
    "!cd /root/brainiak_datasets; wget --no-check-certificate -r 'https://drive.google.com/uc?export=download&confirm=GYuk&id=1LBhKWx5NSlndUlBev3jP997wNiM6HA9N' -O 'face_scene.zip'\n",
    "!cd /root/brainiak_datasets/; unzip face_scene.zip"
   ]
  },
  {
   "cell_type": "markdown",
   "metadata": {
    "colab_type": "text",
    "id": "3f77ezxd9WOl"
   },
   "source": [
    "### Download Latatt dataset - (tutorial notebook 8)"
   ]
  },
  {
   "cell_type": "code",
   "execution_count": 0,
   "metadata": {
    "colab": {},
    "colab_type": "code",
    "id": "p1mHpAbK-P0j"
   },
   "outputs": [],
   "source": [
    "!cd /root/brainiak_datasets; wget --no-check-certificate -r 'https://drive.google.com/uc?export=download&confirm=jj9P&id=1iX5nLZvQsWuM5AmKeiBNoP8QkZjlOY7T' -O 'latatt.zip'\n",
    "!cd /root/brainiak_datasets/; unzip latatt.zip"
   ]
  },
  {
   "cell_type": "markdown",
   "metadata": {
    "colab_type": "text",
    "id": "vh5emd9j9hsH"
   },
   "source": [
    "### Download Pieman2 dataset - (tutorial notebook 10)"
   ]
  },
  {
   "cell_type": "code",
   "execution_count": 0,
   "metadata": {
    "colab": {},
    "colab_type": "code",
    "id": "V9HuQQHm-fdf"
   },
   "outputs": [],
   "source": [
    "!cd /root/brainiak_datasets; wget --no-check-certificate -r 'https://drive.google.com/uc?export=download&confirm=5QPf&id=1IBA39ZZjeGS1u_DvZdiw1AZZQMS3K5q0' -O 'Pieman2.zip'\n",
    "!cd /root/brainiak_datasets/; unzip Pieman2.zip"
   ]
  },
  {
   "cell_type": "markdown",
   "metadata": {
    "colab_type": "text",
    "id": "3tmyB5aw9rgW"
   },
   "source": [
    "### Download Raider dataset - (tutorial notebook 11)"
   ]
  },
  {
   "cell_type": "code",
   "execution_count": 0,
   "metadata": {
    "colab": {},
    "colab_type": "code",
    "id": "p22qFy0n-tPW"
   },
   "outputs": [],
   "source": [
    "!cd /root/brainiak_datasets; wget --no-check-certificate -r 'https://drive.google.com/uc?export=download&confirm=SE4m&id=1zCQoulK_rlzzRb4n6YMVp2cI8vZpxnwx' -O 'NinetySix.zip'\n",
    "!cd /root/brainiak_datasets/; unzip raider.zip"
   ]
  },
  {
   "cell_type": "markdown",
   "metadata": {
    "colab_type": "text",
    "id": "YK8ZESol9wME"
   },
   "source": [
    "### Download Sherlock_processed dataset - (tutorial notebook 12)"
   ]
  },
  {
   "cell_type": "code",
   "execution_count": 0,
   "metadata": {
    "colab": {},
    "colab_type": "code",
    "id": "oAJrPZhP_B88"
   },
   "outputs": [],
   "source": [
    "!cd /root/brainiak_datasets; wget --no-check-certificate -r 'https://drive.google.com/uc?export=download&confirm=wZk0&id=11y9iQUoNVyVLANllKebFUrqdvQt-vsXm' -O 'Sherlock_processed.zip'\n",
    "!cd /root/brainiak_datasets/; unzip Sherlock_processed.zip"
   ]
  },
  {
   "cell_type": "markdown",
   "metadata": {
    "colab_type": "text",
    "id": "moZ9nTzt4Ce3"
   },
   "source": [
    "### Download all datasets - (uncomment to run)"
   ]
  },
  {
   "cell_type": "code",
   "execution_count": 0,
   "metadata": {
    "colab": {},
    "colab_type": "code",
    "id": "k--4ayA25Uxa"
   },
   "outputs": [],
   "source": [
    "#!cd /root/brainiak_datasets; !wget --no-check-certificate -r 'https://docs.google.com/uc?export=download&id=12XuQgkYAI99WXlYwOPFImMW3lHylYj3U' -O 'tutorials.zip'\n",
    "#!cd /root/brainiak_datasets; unzip tutorials.zip"
   ]
  },
  {
   "cell_type": "markdown",
   "metadata": {
    "colab_type": "text",
    "id": "aFpm6-Hbfg9L"
   },
   "source": [
    "### Remove downloaded zip files - (uncomment to run)"
   ]
  },
  {
   "cell_type": "code",
   "execution_count": 0,
   "metadata": {
    "colab": {},
    "colab_type": "code",
    "id": "E0kSNsP8fkUe"
   },
   "outputs": [],
   "source": [
    "#!cd /root/brainiak_datasets; rm *.zip"
   ]
  }
 ],
 "metadata": {
  "colab": {
   "collapsed_sections": [],
   "name": "Copy of Copy of Brainiak-Tutorial-Setup.ipynb",
   "provenance": [
    {
     "file_id": "1fX4UAjp2VO06HS9ZFmXY2oredlm-tIF9",
     "timestamp": 1556732927144
    },
    {
     "file_id": "1JUvtOE7TfJyZMLofTvJN7mQE0PnBhzxR",
     "timestamp": 1556553057884
    }
   ],
   "toc_visible": true,
   "version": "0.3.2"
  },
  "kernelspec": {
   "display_name": "Python 3",
   "language": "python",
   "name": "python3"
  },
  "language_info": {
   "codemirror_mode": {
    "name": "ipython",
    "version": 3
   },
   "file_extension": ".py",
   "mimetype": "text/x-python",
   "name": "python",
   "nbconvert_exporter": "python",
   "pygments_lexer": "ipython3",
   "version": "3.6.8"
  }
 },
 "nbformat": 4,
 "nbformat_minor": 1
}
